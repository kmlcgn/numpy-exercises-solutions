{
  "cells": [
    {
      "cell_type": "markdown",
      "metadata": {
        "id": "view-in-github",
        "colab_type": "text"
      },
      "source": [
        "<a href=\"https://colab.research.google.com/github/cagin24/numpy-exercises-solutions/blob/main/solutions.ipynb\" target=\"_parent\"><img src=\"https://colab.research.google.com/assets/colab-badge.svg\" alt=\"Open In Colab\"/></a>"
      ]
    },
    {
      "cell_type": "markdown",
      "source": [
        "# 101 Numpy Exercises Solutions"
      ],
      "metadata": {
        "id": "mgpuU7X5kUj5"
      }
    },
    {
      "cell_type": "code",
      "source": [
        "#1\n",
        "import numpy as np\n",
        "print(np.__version__)"
      ],
      "metadata": {
        "colab": {
          "base_uri": "https://localhost:8080/"
        },
        "id": "TVpIVLm4kdt7",
        "outputId": "c07345e1-a90c-4140-d2bf-df5ea9b8fa25"
      },
      "execution_count": 3,
      "outputs": [
        {
          "output_type": "stream",
          "name": "stdout",
          "text": [
            "1.21.6\n"
          ]
        }
      ]
    },
    {
      "cell_type": "code",
      "source": [
        "#2\n",
        "arr = np.arange(0,10)\n",
        "arr"
      ],
      "metadata": {
        "colab": {
          "base_uri": "https://localhost:8080/"
        },
        "id": "HcgbsubXkitO",
        "outputId": "a4243620-da16-4b0c-848c-3508aa581467"
      },
      "execution_count": 8,
      "outputs": [
        {
          "output_type": "execute_result",
          "data": {
            "text/plain": [
              "array([0, 1, 2, 3, 4, 5, 6, 7, 8, 9])"
            ]
          },
          "metadata": {},
          "execution_count": 8
        }
      ]
    },
    {
      "cell_type": "code",
      "source": [
        "#3\n",
        "arr2 = np.ones((3,3),dtype=bool)\n",
        "arr2"
      ],
      "metadata": {
        "colab": {
          "base_uri": "https://localhost:8080/"
        },
        "id": "ftjmdQPkk18r",
        "outputId": "22659893-f784-4f49-9c71-41d017e99852"
      },
      "execution_count": 14,
      "outputs": [
        {
          "output_type": "execute_result",
          "data": {
            "text/plain": [
              "array([[ True,  True,  True],\n",
              "       [ True,  True,  True],\n",
              "       [ True,  True,  True]])"
            ]
          },
          "metadata": {},
          "execution_count": 14
        }
      ]
    },
    {
      "cell_type": "code",
      "source": [
        "#3- Alt\n",
        "arr3 = np.full((3,3),True,dtype=bool)\n",
        "arr3"
      ],
      "metadata": {
        "colab": {
          "base_uri": "https://localhost:8080/"
        },
        "id": "HSn-boxamBk0",
        "outputId": "ef5c3041-1681-4f74-a5db-a9d80e670f02"
      },
      "execution_count": 20,
      "outputs": [
        {
          "output_type": "execute_result",
          "data": {
            "text/plain": [
              "array([[ True,  True,  True],\n",
              "       [ True,  True,  True],\n",
              "       [ True,  True,  True]])"
            ]
          },
          "metadata": {},
          "execution_count": 20
        }
      ]
    },
    {
      "cell_type": "code",
      "source": [
        "#4\n",
        "arr4 = np.array([0, 1, 2, 3, 4, 5, 6, 7, 8, 9])\n",
        "arr4[arr4 %2 != 0]"
      ],
      "metadata": {
        "colab": {
          "base_uri": "https://localhost:8080/"
        },
        "id": "OflN3mnDmdBJ",
        "outputId": "f6ff6edf-56a0-44b5-ff4b-22c321f0e22b"
      },
      "execution_count": 24,
      "outputs": [
        {
          "output_type": "execute_result",
          "data": {
            "text/plain": [
              "array([1, 3, 5, 7, 9])"
            ]
          },
          "metadata": {},
          "execution_count": 24
        }
      ]
    },
    {
      "cell_type": "code",
      "source": [
        "#5\n",
        "arr5 = np.array([0, 1, 2, 3, 4, 5, 6, 7, 8, 9])\n",
        "arr5[arr5 % 2 != 0] = -1\n",
        "arr5"
      ],
      "metadata": {
        "colab": {
          "base_uri": "https://localhost:8080/"
        },
        "id": "Pjrj7zgjnEOM",
        "outputId": "e1de05af-4df8-4e0b-f0b3-c403769099b4"
      },
      "execution_count": 25,
      "outputs": [
        {
          "output_type": "execute_result",
          "data": {
            "text/plain": [
              "array([ 0, -1,  2, -1,  4, -1,  6, -1,  8, -1])"
            ]
          },
          "metadata": {},
          "execution_count": 25
        }
      ]
    },
    {
      "cell_type": "code",
      "source": [
        "#6\n",
        "arr6 = np.array([0, 1, 2, 3, 4, 5, 6, 7, 8, 9])\n",
        "out = arr6.copy()\n",
        "out[out % 2 != 0] = -1\n",
        "arr"
      ],
      "metadata": {
        "colab": {
          "base_uri": "https://localhost:8080/"
        },
        "id": "bTnGPr8mn4j2",
        "outputId": "d9ea8f83-14ee-439b-f128-a919fe46e8d8"
      },
      "execution_count": 28,
      "outputs": [
        {
          "output_type": "execute_result",
          "data": {
            "text/plain": [
              "array([0, 1, 2, 3, 4, 5, 6, 7, 8, 9])"
            ]
          },
          "metadata": {},
          "execution_count": 28
        }
      ]
    },
    {
      "cell_type": "code",
      "source": [
        "#6 - alternative\n",
        "arr6 = np.array([0, 1, 2, 3, 4, 5, 6, 7, 8, 9])\n",
        "out = np.where(arr6 % 2 != 0, -1, arr6)\n",
        "out"
      ],
      "metadata": {
        "colab": {
          "base_uri": "https://localhost:8080/"
        },
        "id": "AVFqw6E4oIZn",
        "outputId": "c72fe470-f3c1-435a-b3b4-567eb5a6ef97"
      },
      "execution_count": 31,
      "outputs": [
        {
          "output_type": "execute_result",
          "data": {
            "text/plain": [
              "array([ 0, -1,  2, -1,  4, -1,  6, -1,  8, -1])"
            ]
          },
          "metadata": {},
          "execution_count": 31
        }
      ]
    },
    {
      "cell_type": "code",
      "source": [
        "#7\n",
        "np.arange(10).reshape(2,5)"
      ],
      "metadata": {
        "colab": {
          "base_uri": "https://localhost:8080/"
        },
        "id": "q3G_TRtaohBD",
        "outputId": "98790ed3-19a8-40ce-ab8f-434564391293"
      },
      "execution_count": 34,
      "outputs": [
        {
          "output_type": "execute_result",
          "data": {
            "text/plain": [
              "array([[0, 1, 2, 3, 4],\n",
              "       [5, 6, 7, 8, 9]])"
            ]
          },
          "metadata": {},
          "execution_count": 34
        }
      ]
    },
    {
      "cell_type": "code",
      "source": [
        "#7 - alternative\n",
        "arr7 = np.arange(10).reshape(2,-1)\n",
        "arr7\n",
        "# -1 : automatically decides which value should be there. eg. 2 * X = 10, X = 5\n"
      ],
      "metadata": {
        "colab": {
          "base_uri": "https://localhost:8080/"
        },
        "id": "o80XSUtSo_Lk",
        "outputId": "ef6c0378-9b7f-4df0-fffc-55bb5d82f5c8"
      },
      "execution_count": 49,
      "outputs": [
        {
          "output_type": "execute_result",
          "data": {
            "text/plain": [
              "array([[0, 1, 2, 3, 4],\n",
              "       [5, 6, 7, 8, 9]])"
            ]
          },
          "metadata": {},
          "execution_count": 49
        }
      ]
    },
    {
      "cell_type": "code",
      "source": [
        "#8\n",
        "a = np.arange(10).reshape(2,-1)\n",
        "b = np.repeat(1, 10).reshape(2,-1)\n",
        "\n",
        "np.concatenate((a,b),axis = 0)\n"
      ],
      "metadata": {
        "colab": {
          "base_uri": "https://localhost:8080/"
        },
        "id": "b4S1miExpNlo",
        "outputId": "fc1d8fb4-a1cd-4908-f496-ce94d02a2da8"
      },
      "execution_count": 63,
      "outputs": [
        {
          "output_type": "execute_result",
          "data": {
            "text/plain": [
              "array([[0, 1, 2, 3, 4],\n",
              "       [5, 6, 7, 8, 9],\n",
              "       [1, 1, 1, 1, 1],\n",
              "       [1, 1, 1, 1, 1]])"
            ]
          },
          "metadata": {},
          "execution_count": 63
        }
      ]
    },
    {
      "cell_type": "code",
      "source": [
        "#8 - alternative\n",
        "a = np.arange(10).reshape(2,-1)\n",
        "b = np.repeat(1, 10).reshape(2,-1)\n",
        "np.vstack([a,b])"
      ],
      "metadata": {
        "colab": {
          "base_uri": "https://localhost:8080/"
        },
        "id": "OmtXAOtuqK5e",
        "outputId": "98020f30-dbbd-40b2-c8fd-75e1c6b35f31"
      },
      "execution_count": 61,
      "outputs": [
        {
          "output_type": "execute_result",
          "data": {
            "text/plain": [
              "array([[0, 1, 2, 3, 4],\n",
              "       [5, 6, 7, 8, 9],\n",
              "       [1, 1, 1, 1, 1],\n",
              "       [1, 1, 1, 1, 1]])"
            ]
          },
          "metadata": {},
          "execution_count": 61
        }
      ]
    },
    {
      "cell_type": "code",
      "source": [
        "#9\n",
        "a = np.arange(10).reshape(2,-1)\n",
        "b = np.repeat(1, 10).reshape(2,-1)\n",
        "\n",
        "np.concatenate((a,b),axis = 1)"
      ],
      "metadata": {
        "colab": {
          "base_uri": "https://localhost:8080/"
        },
        "id": "mK8-4Jxcq8Y7",
        "outputId": "b12997ea-20f6-4a0e-b6aa-4fbed5a305c5"
      },
      "execution_count": 64,
      "outputs": [
        {
          "output_type": "execute_result",
          "data": {
            "text/plain": [
              "array([[0, 1, 2, 3, 4, 1, 1, 1, 1, 1],\n",
              "       [5, 6, 7, 8, 9, 1, 1, 1, 1, 1]])"
            ]
          },
          "metadata": {},
          "execution_count": 64
        }
      ]
    },
    {
      "cell_type": "code",
      "source": [
        "#9 - alternative\n",
        "a = np.arange(10).reshape(2,-1)\n",
        "b = np.repeat(1, 10).reshape(2,-1)\n",
        "np.hstack([a,b])"
      ],
      "metadata": {
        "colab": {
          "base_uri": "https://localhost:8080/"
        },
        "id": "uOfhaLaqrfa_",
        "outputId": "6871e0a2-f16b-46fc-c3f4-3fc016632fa3"
      },
      "execution_count": 65,
      "outputs": [
        {
          "output_type": "execute_result",
          "data": {
            "text/plain": [
              "array([[0, 1, 2, 3, 4, 1, 1, 1, 1, 1],\n",
              "       [5, 6, 7, 8, 9, 1, 1, 1, 1, 1]])"
            ]
          },
          "metadata": {},
          "execution_count": 65
        }
      ]
    },
    {
      "cell_type": "code",
      "source": [
        "#10 \n",
        "a = np.array([1,2,3])\n",
        "arr10 = np.repeat(a,3)\n",
        "arr10 = np.concatenate((arr10,a,a,a), axis = 0) \n",
        "arr10\n"
      ],
      "metadata": {
        "colab": {
          "base_uri": "https://localhost:8080/"
        },
        "id": "pU2ely3FrhbK",
        "outputId": "6087db43-dd9d-4f66-b863-d133c9033fdc"
      },
      "execution_count": 80,
      "outputs": [
        {
          "output_type": "execute_result",
          "data": {
            "text/plain": [
              "array([1, 1, 1, 2, 2, 2, 3, 3, 3, 1, 2, 3, 1, 2, 3, 1, 2, 3])"
            ]
          },
          "metadata": {},
          "execution_count": 80
        }
      ]
    },
    {
      "cell_type": "code",
      "source": [
        "#10 - alternative\n",
        "a = np.array([1,2,3])\n",
        "np.r_[np.repeat(a, 3), np.tile(a, 3)]"
      ],
      "metadata": {
        "colab": {
          "base_uri": "https://localhost:8080/"
        },
        "id": "X03AGUV2ry5h",
        "outputId": "ac4d4d6e-ceea-4d1e-ab46-b8ab5e386299"
      },
      "execution_count": 150,
      "outputs": [
        {
          "output_type": "execute_result",
          "data": {
            "text/plain": [
              "array([1, 1, 1, 2, 2, 2, 3, 3, 3, 1, 2, 3, 1, 2, 3, 1, 2, 3])"
            ]
          },
          "metadata": {},
          "execution_count": 150
        }
      ]
    },
    {
      "cell_type": "code",
      "source": [
        "#11\n",
        "a = np.array([1,2,3,2,3,4,3,4,5,6])\n",
        "b = np.array([7,2,10,2,7,4,9,4,9,8])\n",
        "np.intersect1d(a,b)"
      ],
      "metadata": {
        "colab": {
          "base_uri": "https://localhost:8080/"
        },
        "id": "G3K8g-c4ttI1",
        "outputId": "532f4cf5-4806-4896-ca3c-7d89404aff5e"
      },
      "execution_count": 151,
      "outputs": [
        {
          "output_type": "execute_result",
          "data": {
            "text/plain": [
              "array([2, 4])"
            ]
          },
          "metadata": {},
          "execution_count": 151
        }
      ]
    },
    {
      "cell_type": "code",
      "source": [
        "#12\n",
        "a = np.array([1,2,3,4,5])\n",
        "b = np.array([5,6,7,8,9])\n",
        "np.setdiff1d(a,b)"
      ],
      "metadata": {
        "colab": {
          "base_uri": "https://localhost:8080/"
        },
        "id": "T2lt7koex2AK",
        "outputId": "3fdefd23-616e-43a1-f09a-4e28b21c49ab"
      },
      "execution_count": 154,
      "outputs": [
        {
          "output_type": "execute_result",
          "data": {
            "text/plain": [
              "array([1, 2, 3, 4])"
            ]
          },
          "metadata": {},
          "execution_count": 154
        }
      ]
    },
    {
      "cell_type": "code",
      "source": [
        "#13\n",
        "a = np.array([1,2,3,2,3,4,3,4,5,6])\n",
        "b = np.array([7,2,10,2,7,4,9,4,9,8])\n",
        "\n",
        "np.where(a == b)"
      ],
      "metadata": {
        "colab": {
          "base_uri": "https://localhost:8080/"
        },
        "id": "wkn2ht2j2Hpe",
        "outputId": "6c1df0e4-0703-4ef5-c41f-8726252223fb"
      },
      "execution_count": 167,
      "outputs": [
        {
          "output_type": "execute_result",
          "data": {
            "text/plain": [
              "(array([1, 3, 5, 7]),)"
            ]
          },
          "metadata": {},
          "execution_count": 167
        }
      ]
    },
    {
      "cell_type": "code",
      "source": [
        "#14\n",
        "a = np.array([2, 6, 1, 9, 10, 3, 27])\n",
        "a[(a >= 5) & (a <= 10)]"
      ],
      "metadata": {
        "colab": {
          "base_uri": "https://localhost:8080/"
        },
        "id": "UbdpKGDo2t4v",
        "outputId": "141f4f6a-154a-40ae-d60a-8da4810f642f"
      },
      "execution_count": 186,
      "outputs": [
        {
          "output_type": "execute_result",
          "data": {
            "text/plain": [
              "array([ 6,  9, 10])"
            ]
          },
          "metadata": {},
          "execution_count": 186
        }
      ]
    },
    {
      "cell_type": "code",
      "source": [
        "#15\n",
        "def pair_max(x, y):\n",
        "    arr = np.array([])\n",
        "    \"\"\"Get the maximum of array items\"\"\"\n",
        "    for i in range(len(x)):\n",
        "      \n",
        "      if x[i] > y[i]:\n",
        "        arr = np.append(arr, x[i])\n",
        "      else:\n",
        "        arr = np.append(arr, y[i])\n",
        "    return arr\n",
        "\n",
        "a = np.array([5, 7, 9, 8, 6, 4, 5])\n",
        "b = np.array([6, 3, 4, 8, 9, 7, 1])\n",
        "pair_max(a,b)"
      ],
      "metadata": {
        "colab": {
          "base_uri": "https://localhost:8080/"
        },
        "id": "KCr--mJc3uGA",
        "outputId": "d7813be4-d60d-4d80-c82b-9da3a40c385d"
      },
      "execution_count": 221,
      "outputs": [
        {
          "output_type": "execute_result",
          "data": {
            "text/plain": [
              "array([6., 7., 9., 8., 9., 7., 5.])"
            ]
          },
          "metadata": {},
          "execution_count": 221
        }
      ]
    },
    {
      "cell_type": "code",
      "source": [
        "#15 - alternative\n",
        "def maxx(x, y):\n",
        "    \"\"\"Get the maximum of two items\"\"\"\n",
        "    if x >= y:\n",
        "        return x\n",
        "    else:\n",
        "        return y\n",
        "\n",
        "pair_max = np.vectorize(maxx, otypes=[int])\n",
        "\n",
        "a = np.array([5, 7, 9, 8, 6, 4, 5])\n",
        "b = np.array([6, 3, 4, 8, 9, 7, 1])\n",
        "\n",
        "pair_max(a, b)"
      ],
      "metadata": {
        "colab": {
          "base_uri": "https://localhost:8080/"
        },
        "id": "1BnkRur06BCd",
        "outputId": "f2c46289-4a2e-4c1e-b325-53979a3fc65d"
      },
      "execution_count": 222,
      "outputs": [
        {
          "output_type": "execute_result",
          "data": {
            "text/plain": [
              "array([6, 7, 9, 8, 9, 7, 5])"
            ]
          },
          "metadata": {},
          "execution_count": 222
        }
      ]
    },
    {
      "cell_type": "code",
      "source": [
        "#16 \n",
        "arr = np.arange(9).reshape(3,3)\n",
        "\n",
        "arr[:, [1, 0]] = arr[:, [0, 1]]\n",
        "arr"
      ],
      "metadata": {
        "colab": {
          "base_uri": "https://localhost:8080/"
        },
        "id": "QMxJr8JfMG-h",
        "outputId": "a5e2354d-6c0e-4145-f5b0-5752caa0a306"
      },
      "execution_count": 229,
      "outputs": [
        {
          "output_type": "execute_result",
          "data": {
            "text/plain": [
              "array([[1, 0, 2],\n",
              "       [4, 3, 5],\n",
              "       [7, 6, 8]])"
            ]
          },
          "metadata": {},
          "execution_count": 229
        }
      ]
    },
    {
      "cell_type": "code",
      "source": [
        "#16 - alternative\n",
        "arr = np.arange(9).reshape(3,3)\n",
        "arr[:,[1,0,2]]\n",
        "'''\n",
        "the first : stands for 1st dimension, second stands for 2nd dimension and so on.\n",
        "'''\n"
      ],
      "metadata": {
        "colab": {
          "base_uri": "https://localhost:8080/"
        },
        "id": "UZp5IOdXMk-Q",
        "outputId": "efe288fe-2a2a-49bb-b0b3-e921908640c1"
      },
      "execution_count": 230,
      "outputs": [
        {
          "output_type": "execute_result",
          "data": {
            "text/plain": [
              "array([[1, 0, 2],\n",
              "       [4, 3, 5],\n",
              "       [7, 6, 8]])"
            ]
          },
          "metadata": {},
          "execution_count": 230
        }
      ]
    },
    {
      "cell_type": "code",
      "source": [
        "#17 \n",
        "arr = np.arange(9).reshape(3,3)\n",
        "arr[[1,0,2],:]"
      ],
      "metadata": {
        "colab": {
          "base_uri": "https://localhost:8080/"
        },
        "id": "urnBs07QQ5mx",
        "outputId": "3e57568f-c3e1-4997-f48c-b397d7c98d42"
      },
      "execution_count": 231,
      "outputs": [
        {
          "output_type": "execute_result",
          "data": {
            "text/plain": [
              "array([[3, 4, 5],\n",
              "       [0, 1, 2],\n",
              "       [6, 7, 8]])"
            ]
          },
          "metadata": {},
          "execution_count": 231
        }
      ]
    },
    {
      "cell_type": "code",
      "source": [
        "#17 - alternative\n",
        "arr = np.arange(9).reshape(3,3)\n",
        "arr[[0,1],:] = arr[[1,0],:]\n",
        "arr"
      ],
      "metadata": {
        "colab": {
          "base_uri": "https://localhost:8080/"
        },
        "id": "hgWagtP1SliZ",
        "outputId": "e9a7251c-78bf-4abd-ac82-d05362ed7c16"
      },
      "execution_count": 234,
      "outputs": [
        {
          "output_type": "execute_result",
          "data": {
            "text/plain": [
              "array([[3, 4, 5],\n",
              "       [0, 1, 2],\n",
              "       [6, 7, 8]])"
            ]
          },
          "metadata": {},
          "execution_count": 234
        }
      ]
    },
    {
      "cell_type": "code",
      "source": [
        "#18 \n",
        "arr = np.arange(9).reshape(3,3)\n",
        "arr[[2,1,0],:]"
      ],
      "metadata": {
        "colab": {
          "base_uri": "https://localhost:8080/"
        },
        "id": "vTX4fADDS4KF",
        "outputId": "8523da72-b32e-4e00-84b8-4efcb034d5d2"
      },
      "execution_count": 236,
      "outputs": [
        {
          "output_type": "execute_result",
          "data": {
            "text/plain": [
              "array([[6, 7, 8],\n",
              "       [3, 4, 5],\n",
              "       [0, 1, 2]])"
            ]
          },
          "metadata": {},
          "execution_count": 236
        }
      ]
    },
    {
      "cell_type": "code",
      "source": [
        "#18 - alternative\n",
        "arr = np.arange(9).reshape(3,3)\n",
        "arr[::-1]"
      ],
      "metadata": {
        "colab": {
          "base_uri": "https://localhost:8080/"
        },
        "id": "6VJ3NG20THnm",
        "outputId": "25d1b571-7f1e-4a88-c1e2-499bdd1452eb"
      },
      "execution_count": 239,
      "outputs": [
        {
          "output_type": "execute_result",
          "data": {
            "text/plain": [
              "array([[6, 7, 8],\n",
              "       [3, 4, 5],\n",
              "       [0, 1, 2]])"
            ]
          },
          "metadata": {},
          "execution_count": 239
        }
      ]
    },
    {
      "cell_type": "code",
      "source": [
        "#19 \n",
        "arr = np.arange(9).reshape(3,3)\n",
        "arr[:,::-1]"
      ],
      "metadata": {
        "colab": {
          "base_uri": "https://localhost:8080/"
        },
        "id": "-P1YxegaTtsc",
        "outputId": "b706a3d6-130f-4c61-f8ef-24cdc3d36adc"
      },
      "execution_count": 246,
      "outputs": [
        {
          "output_type": "execute_result",
          "data": {
            "text/plain": [
              "array([[2, 1, 0],\n",
              "       [5, 4, 3],\n",
              "       [8, 7, 6]])"
            ]
          },
          "metadata": {},
          "execution_count": 246
        }
      ]
    },
    {
      "cell_type": "code",
      "source": [
        "#20\n",
        "rand_arr20 = np.random.randint(low=5, high=11, size=(5,3)) + np.random.random((5,3))\n",
        "rand_arr20"
      ],
      "metadata": {
        "colab": {
          "base_uri": "https://localhost:8080/"
        },
        "id": "8pCA2CMSWHR-",
        "outputId": "2dceeee4-1b1f-4cf3-e532-0d92cb83edad"
      },
      "execution_count": 244,
      "outputs": [
        {
          "output_type": "execute_result",
          "data": {
            "text/plain": [
              "array([[ 7.83888843, 10.29223755,  5.75267793],\n",
              "       [ 7.98194178,  9.36469045,  6.82853099],\n",
              "       [10.23450102,  9.03889969,  7.00168733],\n",
              "       [10.51343323,  5.08704942,  6.81639446],\n",
              "       [ 7.41067178, 10.25178753,  8.75013329]])"
            ]
          },
          "metadata": {},
          "execution_count": 244
        }
      ]
    },
    {
      "cell_type": "code",
      "source": [
        "#21 \n",
        "rand_arr = np.random.random([5,3])\n",
        "np.set_printoptions(precision=3)\n",
        "rand_arr\n"
      ],
      "metadata": {
        "colab": {
          "base_uri": "https://localhost:8080/"
        },
        "id": "Y-3tKORVWj2Z",
        "outputId": "9451c6b2-ff09-4cc3-d0f7-7973e6239e15"
      },
      "execution_count": 254,
      "outputs": [
        {
          "output_type": "execute_result",
          "data": {
            "text/plain": [
              "array([[0.275, 0.512, 0.005],\n",
              "       [0.171, 0.035, 0.535],\n",
              "       [0.977, 0.038, 0.578],\n",
              "       [0.271, 0.698, 0.14 ],\n",
              "       [0.382, 0.213, 0.965]])"
            ]
          },
          "metadata": {},
          "execution_count": 254
        }
      ]
    },
    {
      "cell_type": "code",
      "source": [
        "#22\n",
        "np.random.seed(100)\n",
        "rand_arr22 = np.random.random([3,3])/1e3\n",
        "np.set_printoptions(suppress=True, precision=7)\n",
        "rand_arr22"
      ],
      "metadata": {
        "id": "Gz7DFpbKYEN2",
        "outputId": "25a23eee-caac-4237-9201-d7ca573350cd",
        "colab": {
          "base_uri": "https://localhost:8080/"
        }
      },
      "execution_count": 268,
      "outputs": [
        {
          "output_type": "execute_result",
          "data": {
            "text/plain": [
              "array([[0.0005434, 0.0002784, 0.0004245],\n",
              "       [0.0008448, 0.0000047, 0.0001216],\n",
              "       [0.0006707, 0.0008259, 0.0001367]])"
            ]
          },
          "metadata": {},
          "execution_count": 268
        }
      ]
    },
    {
      "cell_type": "code",
      "source": [
        "#23\n",
        "arr23 = np.arange(15)\n",
        "np.set_printoptions(threshold=6)\n",
        "arr23"
      ],
      "metadata": {
        "id": "YenjUSJWZknl",
        "outputId": "8a00298c-98e5-45dc-ef9d-05e2d18c2144",
        "colab": {
          "base_uri": "https://localhost:8080/"
        }
      },
      "execution_count": 270,
      "outputs": [
        {
          "output_type": "execute_result",
          "data": {
            "text/plain": [
              "array([ 0,  1,  2, ..., 12, 13, 14])"
            ]
          },
          "metadata": {},
          "execution_count": 270
        }
      ]
    },
    {
      "cell_type": "code",
      "source": [
        "#24\n",
        "import sys\n",
        "arr24 = np.arange(15)\n",
        "np.set_printoptions(threshold=sys.maxsize)\n",
        "arr24"
      ],
      "metadata": {
        "id": "jSEcjaVya1uZ",
        "outputId": "d608aa4f-05de-4cab-dc20-ca6e11c8724d",
        "colab": {
          "base_uri": "https://localhost:8080/"
        }
      },
      "execution_count": 280,
      "outputs": [
        {
          "output_type": "execute_result",
          "data": {
            "text/plain": [
              "array([ 0,  1,  2,  3,  4,  5,  6,  7,  8,  9, 10, 11, 12, 13, 14])"
            ]
          },
          "metadata": {},
          "execution_count": 280
        }
      ]
    },
    {
      "cell_type": "code",
      "source": [
        "#25\n",
        "url = 'https://gist.githubusercontent.com/netj/8836201/raw/6f9306ad21398ea43cba4f7d537619d0e07d5ae3/iris.csv'\n",
        "iris = np.genfromtxt(url, delimiter=',', dtype='object')\n",
        "iris[:5]\n"
      ],
      "metadata": {
        "id": "umDkEU3PbAxj",
        "outputId": "f40113f5-2cac-4d3c-f47b-8511c318f8a6",
        "colab": {
          "base_uri": "https://localhost:8080/"
        }
      },
      "execution_count": 319,
      "outputs": [
        {
          "output_type": "execute_result",
          "data": {
            "text/plain": [
              "array([[b'\"sepal.length\"', b'\"sepal.width\"', b'\"petal.length\"',\n",
              "        b'\"petal.width\"', b'\"variety\"'],\n",
              "       [b'5.1', b'3.5', b'1.4', b'.2', b'\"Setosa\"'],\n",
              "       [b'4.9', b'3', b'1.4', b'.2', b'\"Setosa\"'],\n",
              "       [b'4.7', b'3.2', b'1.3', b'.2', b'\"Setosa\"'],\n",
              "       [b'4.6', b'3.1', b'1.5', b'.2', b'\"Setosa\"']], dtype=object)"
            ]
          },
          "metadata": {},
          "execution_count": 319
        }
      ]
    },
    {
      "cell_type": "code",
      "source": [
        "#26\n",
        "url = 'https://gist.githubusercontent.com/netj/8836201/raw/6f9306ad21398ea43cba4f7d537619d0e07d5ae3/iris.csv'\n",
        "iris = np.genfromtxt(url, delimiter=',', dtype=None)\n",
        "\n",
        "species = np.array([row[4] for row in iris])\n",
        "species[:10]\n",
        "\n"
      ],
      "metadata": {
        "id": "c_m4aOqTeZUq",
        "outputId": "ef00a067-27ea-4779-8730-cbea7d7f194d",
        "colab": {
          "base_uri": "https://localhost:8080/"
        }
      },
      "execution_count": 329,
      "outputs": [
        {
          "output_type": "stream",
          "name": "stderr",
          "text": [
            "/usr/local/lib/python3.7/dist-packages/ipykernel_launcher.py:3: VisibleDeprecationWarning: Reading unicode strings without specifying the encoding argument is deprecated. Set the encoding, use None for the system default.\n",
            "  This is separate from the ipykernel package so we can avoid doing imports until\n"
          ]
        },
        {
          "output_type": "execute_result",
          "data": {
            "text/plain": [
              "array([b'\"variety\"', b'\"Setosa\"', b'\"Setosa\"', b'\"Setosa\"', b'\"Setosa\"',\n",
              "       b'\"Setosa\"', b'\"Setosa\"', b'\"Setosa\"', b'\"Setosa\"', b'\"Setosa\"'],\n",
              "      dtype='|S12')"
            ]
          },
          "metadata": {},
          "execution_count": 329
        }
      ]
    },
    {
      "cell_type": "code",
      "source": [
        "#27\n",
        "url = 'https://gist.githubusercontent.com/netj/8836201/raw/6f9306ad21398ea43cba4f7d537619d0e07d5ae3/iris.csv'\n",
        "iris = np.genfromtxt(url, delimiter=',')\n",
        "iris = iris[1:]\n",
        "iris2D = np.array([row.tolist()[:4] for row in iris])\n",
        "iris2D[:10]"
      ],
      "metadata": {
        "id": "GXw6H6GJfPGz",
        "outputId": "ea2b10a5-8702-4fb4-f84a-436964742522",
        "colab": {
          "base_uri": "https://localhost:8080/"
        }
      },
      "execution_count": 336,
      "outputs": [
        {
          "output_type": "execute_result",
          "data": {
            "text/plain": [
              "array([[5.1, 3.5, 1.4, 0.2],\n",
              "       [4.9, 3. , 1.4, 0.2],\n",
              "       [4.7, 3.2, 1.3, 0.2],\n",
              "       [4.6, 3.1, 1.5, 0.2],\n",
              "       [5. , 3.6, 1.4, 0.2],\n",
              "       [5.4, 3.9, 1.7, 0.4],\n",
              "       [4.6, 3.4, 1.4, 0.3],\n",
              "       [5. , 3.4, 1.5, 0.2],\n",
              "       [4.4, 2.9, 1.4, 0.2],\n",
              "       [4.9, 3.1, 1.5, 0.1]])"
            ]
          },
          "metadata": {},
          "execution_count": 336
        }
      ]
    },
    {
      "cell_type": "code",
      "source": [
        "#28\n",
        "url = 'https://gist.githubusercontent.com/netj/8836201/raw/6f9306ad21398ea43cba4f7d537619d0e07d5ae3/iris.csv'\n",
        "iris = np.genfromtxt(url, delimiter=',')\n",
        "\n",
        "sepallength = np.genfromtxt(url, delimiter=',', dtype='float', usecols=[0])\n",
        "sepallength = sepallength[1:]\n",
        "\n",
        "mean, median, standard_deviation = np.mean(sepallength), np.median(sepallength), np.std(sepallength)\n",
        "print('mean:{}, median:{}, std deviation:{}'.format(mean, median, standard_deviation))"
      ],
      "metadata": {
        "id": "qGcQjje_A28B",
        "outputId": "c16f965e-007c-4d32-db9b-eb02e2dd0137",
        "colab": {
          "base_uri": "https://localhost:8080/"
        }
      },
      "execution_count": 348,
      "outputs": [
        {
          "output_type": "stream",
          "name": "stdout",
          "text": [
            "mean:5.843333333333334, median:5.8, std deviation:0.8253012917851409\n"
          ]
        }
      ]
    },
    {
      "cell_type": "code",
      "source": [
        "#29\n",
        "url = 'https://gist.githubusercontent.com/netj/8836201/raw/6f9306ad21398ea43cba4f7d537619d0e07d5ae3/iris.csv'\n",
        "iris = np.genfromtxt(url, delimiter=',')\n",
        "\n",
        "sepallength = np.genfromtxt(url, delimiter=',', dtype='float', usecols=[0])\n",
        "sepallength = sepallength[1:]\n",
        "\n",
        "s_max, s_min = sepallength.max(), sepallength.min()\n",
        "\n",
        "sepallength = (sepallength - s_min) / (s_max - s_min)\n",
        "sepallength"
      ],
      "metadata": {
        "id": "Te5mBNc0DgNz",
        "outputId": "8a41f8f8-1756-49f5-9dd7-422c6cb78c88",
        "colab": {
          "base_uri": "https://localhost:8080/"
        }
      },
      "execution_count": 353,
      "outputs": [
        {
          "output_type": "execute_result",
          "data": {
            "text/plain": [
              "array([0.2222222, 0.1666667, 0.1111111, 0.0833333, 0.1944444, 0.3055556,\n",
              "       0.0833333, 0.1944444, 0.0277778, 0.1666667, 0.3055556, 0.1388889,\n",
              "       0.1388889, 0.       , 0.4166667, 0.3888889, 0.3055556, 0.2222222,\n",
              "       0.3888889, 0.2222222, 0.3055556, 0.2222222, 0.0833333, 0.2222222,\n",
              "       0.1388889, 0.1944444, 0.1944444, 0.25     , 0.25     , 0.1111111,\n",
              "       0.1388889, 0.3055556, 0.25     , 0.3333333, 0.1666667, 0.1944444,\n",
              "       0.3333333, 0.1666667, 0.0277778, 0.2222222, 0.1944444, 0.0555556,\n",
              "       0.0277778, 0.1944444, 0.2222222, 0.1388889, 0.2222222, 0.0833333,\n",
              "       0.2777778, 0.1944444, 0.75     , 0.5833333, 0.7222222, 0.3333333,\n",
              "       0.6111111, 0.3888889, 0.5555556, 0.1666667, 0.6388889, 0.25     ,\n",
              "       0.1944444, 0.4444444, 0.4722222, 0.5      , 0.3611111, 0.6666667,\n",
              "       0.3611111, 0.4166667, 0.5277778, 0.3611111, 0.4444444, 0.5      ,\n",
              "       0.5555556, 0.5      , 0.5833333, 0.6388889, 0.6944444, 0.6666667,\n",
              "       0.4722222, 0.3888889, 0.3333333, 0.3333333, 0.4166667, 0.4722222,\n",
              "       0.3055556, 0.4722222, 0.6666667, 0.5555556, 0.3611111, 0.3333333,\n",
              "       0.3333333, 0.5      , 0.4166667, 0.1944444, 0.3611111, 0.3888889,\n",
              "       0.3888889, 0.5277778, 0.2222222, 0.3888889, 0.5555556, 0.4166667,\n",
              "       0.7777778, 0.5555556, 0.6111111, 0.9166667, 0.1666667, 0.8333333,\n",
              "       0.6666667, 0.8055556, 0.6111111, 0.5833333, 0.6944444, 0.3888889,\n",
              "       0.4166667, 0.5833333, 0.6111111, 0.9444444, 0.9444444, 0.4722222,\n",
              "       0.7222222, 0.3611111, 0.9444444, 0.5555556, 0.6666667, 0.8055556,\n",
              "       0.5277778, 0.5      , 0.5833333, 0.8055556, 0.8611111, 1.       ,\n",
              "       0.5833333, 0.5555556, 0.5      , 0.9444444, 0.5555556, 0.5833333,\n",
              "       0.4722222, 0.7222222, 0.6666667, 0.7222222, 0.4166667, 0.6944444,\n",
              "       0.6666667, 0.6666667, 0.5555556, 0.6111111, 0.5277778, 0.4444444])"
            ]
          },
          "metadata": {},
          "execution_count": 353
        }
      ]
    },
    {
      "cell_type": "code",
      "source": [
        "#30 \n",
        "url = 'https://gist.githubusercontent.com/netj/8836201/raw/6f9306ad21398ea43cba4f7d537619d0e07d5ae3/iris.csv'\n",
        "iris = np.genfromtxt(url, delimiter=',')\n",
        "\n",
        "sepallength = np.genfromtxt(url, delimiter=',', dtype='float', usecols=[0])\n",
        "sepallength = sepallength[1:]\n",
        "\n",
        "def softmax(x):\n",
        "    return np.exp(x) / np.sum(np.exp(x), axis=0) \n",
        "\n",
        "softmax(sepallength)"
      ],
      "metadata": {
        "id": "AvdjxXBaGUK-",
        "outputId": "4eb65506-363f-49b0-fa07-477d89fb6c2b",
        "colab": {
          "base_uri": "https://localhost:8080/"
        }
      },
      "execution_count": 354,
      "outputs": [
        {
          "output_type": "execute_result",
          "data": {
            "text/plain": [
              "array([0.0022196, 0.0018172, 0.0014878, 0.0013462, 0.0020084, 0.0029961,\n",
              "       0.0013462, 0.0020084, 0.0011022, 0.0018172, 0.0029961, 0.0016443,\n",
              "       0.0016443, 0.0009973, 0.0044697, 0.0040443, 0.0029961, 0.0022196,\n",
              "       0.0040443, 0.0022196, 0.0029961, 0.0022196, 0.0013462, 0.0022196,\n",
              "       0.0016443, 0.0020084, 0.0020084, 0.002453 , 0.002453 , 0.0014878,\n",
              "       0.0016443, 0.0029961, 0.002453 , 0.0033112, 0.0018172, 0.0020084,\n",
              "       0.0033112, 0.0018172, 0.0011022, 0.0022196, 0.0020084, 0.0012181,\n",
              "       0.0011022, 0.0020084, 0.0022196, 0.0016443, 0.0022196, 0.0013462,\n",
              "       0.002711 , 0.0020084, 0.0148399, 0.0081443, 0.0134277, 0.0033112,\n",
              "       0.0090009, 0.0040443, 0.0073693, 0.0018172, 0.0099475, 0.002453 ,\n",
              "       0.0020084, 0.0049398, 0.0054593, 0.0060335, 0.0036595, 0.0109937,\n",
              "       0.0036595, 0.0044697, 0.006668 , 0.0036595, 0.0049398, 0.0060335,\n",
              "       0.0073693, 0.0060335, 0.0081443, 0.0099475, 0.0121499, 0.0109937,\n",
              "       0.0054593, 0.0040443, 0.0033112, 0.0033112, 0.0044697, 0.0054593,\n",
              "       0.0029961, 0.0054593, 0.0109937, 0.0073693, 0.0036595, 0.0033112,\n",
              "       0.0033112, 0.0060335, 0.0044697, 0.0020084, 0.0036595, 0.0040443,\n",
              "       0.0040443, 0.006668 , 0.0022196, 0.0040443, 0.0073693, 0.0044697,\n",
              "       0.0164006, 0.0073693, 0.0090009, 0.0270401, 0.0018172, 0.0200318,\n",
              "       0.0109937, 0.0181255, 0.0090009, 0.0081443, 0.0121499, 0.0040443,\n",
              "       0.0044697, 0.0081443, 0.0090009, 0.0298839, 0.0298839, 0.0054593,\n",
              "       0.0134277, 0.0036595, 0.0298839, 0.0073693, 0.0109937, 0.0181255,\n",
              "       0.006668 , 0.0060335, 0.0081443, 0.0181255, 0.0221385, 0.0365003,\n",
              "       0.0081443, 0.0073693, 0.0060335, 0.0298839, 0.0073693, 0.0081443,\n",
              "       0.0054593, 0.0134277, 0.0109937, 0.0134277, 0.0044697, 0.0121499,\n",
              "       0.0109937, 0.0109937, 0.0073693, 0.0090009, 0.006668 , 0.0049398])"
            ]
          },
          "metadata": {},
          "execution_count": 354
        }
      ]
    },
    {
      "cell_type": "code",
      "source": [
        "#31 \n",
        "url = 'https://gist.githubusercontent.com/netj/8836201/raw/6f9306ad21398ea43cba4f7d537619d0e07d5ae3/iris.csv'\n",
        "iris = np.genfromtxt(url, delimiter=',')\n",
        "\n",
        "sepallength = np.genfromtxt(url, delimiter=',', dtype='float', usecols=[0])\n",
        "sepallength = sepallength[1:]\n",
        "\n",
        "np.percentile(sepallength, q=[5, 95])"
      ],
      "metadata": {
        "id": "zb-ZGDZKH7Au",
        "outputId": "a9666ac8-4b15-4041-d60c-b761758c1b93",
        "colab": {
          "base_uri": "https://localhost:8080/"
        }
      },
      "execution_count": 355,
      "outputs": [
        {
          "output_type": "execute_result",
          "data": {
            "text/plain": [
              "array([4.6  , 7.255])"
            ]
          },
          "metadata": {},
          "execution_count": 355
        }
      ]
    },
    {
      "cell_type": "code",
      "source": [
        ""
      ],
      "metadata": {
        "id": "6v7ja3ZkKglo"
      },
      "execution_count": null,
      "outputs": []
    }
  ],
  "metadata": {
    "colab": {
      "collapsed_sections": [],
      "name": "Colaboratory'ye Hoş Geldiniz",
      "toc_visible": true,
      "provenance": [],
      "include_colab_link": true
    },
    "kernelspec": {
      "display_name": "Python 3",
      "name": "python3"
    }
  },
  "nbformat": 4,
  "nbformat_minor": 0
}