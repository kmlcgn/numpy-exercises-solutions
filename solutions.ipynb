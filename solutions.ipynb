{
  "cells": [
    {
      "cell_type": "markdown",
      "metadata": {
        "id": "view-in-github",
        "colab_type": "text"
      },
      "source": [
        "<a href=\"https://colab.research.google.com/github/cagin24/numpy-exercises-solutions/blob/main/solutions.ipynb\" target=\"_parent\"><img src=\"https://colab.research.google.com/assets/colab-badge.svg\" alt=\"Open In Colab\"/></a>"
      ]
    },
    {
      "cell_type": "markdown",
      "source": [
        "# 101 Numpy Exercises Solutions"
      ],
      "metadata": {
        "id": "mgpuU7X5kUj5"
      }
    },
    {
      "cell_type": "code",
      "source": [
        "#1\n",
        "import numpy as np\n",
        "print(np.__version__)"
      ],
      "metadata": {
        "id": "TVpIVLm4kdt7",
        "outputId": "c07345e1-a90c-4140-d2bf-df5ea9b8fa25",
        "colab": {
          "base_uri": "https://localhost:8080/"
        }
      },
      "execution_count": 3,
      "outputs": [
        {
          "output_type": "stream",
          "name": "stdout",
          "text": [
            "1.21.6\n"
          ]
        }
      ]
    },
    {
      "cell_type": "code",
      "source": [
        "#2\n",
        "arr = np.arange(0,10)\n",
        "arr"
      ],
      "metadata": {
        "id": "HcgbsubXkitO",
        "outputId": "a4243620-da16-4b0c-848c-3508aa581467",
        "colab": {
          "base_uri": "https://localhost:8080/"
        }
      },
      "execution_count": 8,
      "outputs": [
        {
          "output_type": "execute_result",
          "data": {
            "text/plain": [
              "array([0, 1, 2, 3, 4, 5, 6, 7, 8, 9])"
            ]
          },
          "metadata": {},
          "execution_count": 8
        }
      ]
    },
    {
      "cell_type": "code",
      "source": [
        "#3\n",
        "arr2 = np.ones((3,3),dtype=bool)\n",
        "arr2"
      ],
      "metadata": {
        "id": "ftjmdQPkk18r",
        "outputId": "22659893-f784-4f49-9c71-41d017e99852",
        "colab": {
          "base_uri": "https://localhost:8080/"
        }
      },
      "execution_count": 14,
      "outputs": [
        {
          "output_type": "execute_result",
          "data": {
            "text/plain": [
              "array([[ True,  True,  True],\n",
              "       [ True,  True,  True],\n",
              "       [ True,  True,  True]])"
            ]
          },
          "metadata": {},
          "execution_count": 14
        }
      ]
    },
    {
      "cell_type": "code",
      "source": [
        "#3- Alt\n",
        "arr3 = np.full((3,3),True,dtype=bool)\n",
        "arr3"
      ],
      "metadata": {
        "id": "HSn-boxamBk0",
        "outputId": "ef5c3041-1681-4f74-a5db-a9d80e670f02",
        "colab": {
          "base_uri": "https://localhost:8080/"
        }
      },
      "execution_count": 20,
      "outputs": [
        {
          "output_type": "execute_result",
          "data": {
            "text/plain": [
              "array([[ True,  True,  True],\n",
              "       [ True,  True,  True],\n",
              "       [ True,  True,  True]])"
            ]
          },
          "metadata": {},
          "execution_count": 20
        }
      ]
    },
    {
      "cell_type": "code",
      "source": [
        "#4\n",
        "arr4 = np.array([0, 1, 2, 3, 4, 5, 6, 7, 8, 9])\n",
        "arr4[arr4 %2 != 0]"
      ],
      "metadata": {
        "id": "OflN3mnDmdBJ",
        "outputId": "f6ff6edf-56a0-44b5-ff4b-22c321f0e22b",
        "colab": {
          "base_uri": "https://localhost:8080/"
        }
      },
      "execution_count": 24,
      "outputs": [
        {
          "output_type": "execute_result",
          "data": {
            "text/plain": [
              "array([1, 3, 5, 7, 9])"
            ]
          },
          "metadata": {},
          "execution_count": 24
        }
      ]
    },
    {
      "cell_type": "code",
      "source": [
        "#5\n",
        "arr5 = np.array([0, 1, 2, 3, 4, 5, 6, 7, 8, 9])\n",
        "arr5[arr5 % 2 != 0] = -1\n",
        "arr5"
      ],
      "metadata": {
        "id": "Pjrj7zgjnEOM",
        "outputId": "e1de05af-4df8-4e0b-f0b3-c403769099b4",
        "colab": {
          "base_uri": "https://localhost:8080/"
        }
      },
      "execution_count": 25,
      "outputs": [
        {
          "output_type": "execute_result",
          "data": {
            "text/plain": [
              "array([ 0, -1,  2, -1,  4, -1,  6, -1,  8, -1])"
            ]
          },
          "metadata": {},
          "execution_count": 25
        }
      ]
    },
    {
      "cell_type": "code",
      "source": [
        "#6\n",
        "arr6 = np.array([0, 1, 2, 3, 4, 5, 6, 7, 8, 9])\n",
        "out = arr6.copy()\n",
        "out[out % 2 != 0] = -1\n",
        "arr"
      ],
      "metadata": {
        "id": "bTnGPr8mn4j2",
        "outputId": "d9ea8f83-14ee-439b-f128-a919fe46e8d8",
        "colab": {
          "base_uri": "https://localhost:8080/"
        }
      },
      "execution_count": 28,
      "outputs": [
        {
          "output_type": "execute_result",
          "data": {
            "text/plain": [
              "array([0, 1, 2, 3, 4, 5, 6, 7, 8, 9])"
            ]
          },
          "metadata": {},
          "execution_count": 28
        }
      ]
    },
    {
      "cell_type": "code",
      "source": [
        "#6 - alternative\n",
        "arr6 = np.array([0, 1, 2, 3, 4, 5, 6, 7, 8, 9])\n",
        "out = np.where(arr6 % 2 != 0, -1, arr6)\n",
        "out"
      ],
      "metadata": {
        "id": "AVFqw6E4oIZn",
        "outputId": "c72fe470-f3c1-435a-b3b4-567eb5a6ef97",
        "colab": {
          "base_uri": "https://localhost:8080/"
        }
      },
      "execution_count": 31,
      "outputs": [
        {
          "output_type": "execute_result",
          "data": {
            "text/plain": [
              "array([ 0, -1,  2, -1,  4, -1,  6, -1,  8, -1])"
            ]
          },
          "metadata": {},
          "execution_count": 31
        }
      ]
    },
    {
      "cell_type": "code",
      "source": [
        "#7\n",
        "np.arange(10).reshape(2,5)"
      ],
      "metadata": {
        "id": "q3G_TRtaohBD",
        "outputId": "98790ed3-19a8-40ce-ab8f-434564391293",
        "colab": {
          "base_uri": "https://localhost:8080/"
        }
      },
      "execution_count": 34,
      "outputs": [
        {
          "output_type": "execute_result",
          "data": {
            "text/plain": [
              "array([[0, 1, 2, 3, 4],\n",
              "       [5, 6, 7, 8, 9]])"
            ]
          },
          "metadata": {},
          "execution_count": 34
        }
      ]
    },
    {
      "cell_type": "code",
      "source": [
        "#7 - alternative\n",
        "arr7 = np.arange(10).reshape(2,-1)\n",
        "arr7\n",
        "# -1 : automatically decides which value should be there. eg. 2 * X = 10, X = 5\n"
      ],
      "metadata": {
        "id": "o80XSUtSo_Lk",
        "outputId": "ef6c0378-9b7f-4df0-fffc-55bb5d82f5c8",
        "colab": {
          "base_uri": "https://localhost:8080/"
        }
      },
      "execution_count": 49,
      "outputs": [
        {
          "output_type": "execute_result",
          "data": {
            "text/plain": [
              "array([[0, 1, 2, 3, 4],\n",
              "       [5, 6, 7, 8, 9]])"
            ]
          },
          "metadata": {},
          "execution_count": 49
        }
      ]
    },
    {
      "cell_type": "code",
      "source": [
        "#8\n",
        "a = np.arange(10).reshape(2,-1)\n",
        "b = np.repeat(1, 10).reshape(2,-1)\n",
        "\n",
        "np.concatenate((a,b),axis = 0)\n"
      ],
      "metadata": {
        "id": "b4S1miExpNlo",
        "outputId": "fc1d8fb4-a1cd-4908-f496-ce94d02a2da8",
        "colab": {
          "base_uri": "https://localhost:8080/"
        }
      },
      "execution_count": 63,
      "outputs": [
        {
          "output_type": "execute_result",
          "data": {
            "text/plain": [
              "array([[0, 1, 2, 3, 4],\n",
              "       [5, 6, 7, 8, 9],\n",
              "       [1, 1, 1, 1, 1],\n",
              "       [1, 1, 1, 1, 1]])"
            ]
          },
          "metadata": {},
          "execution_count": 63
        }
      ]
    },
    {
      "cell_type": "code",
      "source": [
        "#8 - alternative\n",
        "a = np.arange(10).reshape(2,-1)\n",
        "b = np.repeat(1, 10).reshape(2,-1)\n",
        "np.vstack([a,b])"
      ],
      "metadata": {
        "id": "OmtXAOtuqK5e",
        "outputId": "98020f30-dbbd-40b2-c8fd-75e1c6b35f31",
        "colab": {
          "base_uri": "https://localhost:8080/"
        }
      },
      "execution_count": 61,
      "outputs": [
        {
          "output_type": "execute_result",
          "data": {
            "text/plain": [
              "array([[0, 1, 2, 3, 4],\n",
              "       [5, 6, 7, 8, 9],\n",
              "       [1, 1, 1, 1, 1],\n",
              "       [1, 1, 1, 1, 1]])"
            ]
          },
          "metadata": {},
          "execution_count": 61
        }
      ]
    },
    {
      "cell_type": "code",
      "source": [
        "#9\n",
        "a = np.arange(10).reshape(2,-1)\n",
        "b = np.repeat(1, 10).reshape(2,-1)\n",
        "\n",
        "np.concatenate((a,b),axis = 1)"
      ],
      "metadata": {
        "id": "mK8-4Jxcq8Y7",
        "outputId": "b12997ea-20f6-4a0e-b6aa-4fbed5a305c5",
        "colab": {
          "base_uri": "https://localhost:8080/"
        }
      },
      "execution_count": 64,
      "outputs": [
        {
          "output_type": "execute_result",
          "data": {
            "text/plain": [
              "array([[0, 1, 2, 3, 4, 1, 1, 1, 1, 1],\n",
              "       [5, 6, 7, 8, 9, 1, 1, 1, 1, 1]])"
            ]
          },
          "metadata": {},
          "execution_count": 64
        }
      ]
    },
    {
      "cell_type": "code",
      "source": [
        "#9 - alternative\n",
        "a = np.arange(10).reshape(2,-1)\n",
        "b = np.repeat(1, 10).reshape(2,-1)\n",
        "np.hstack([a,b])"
      ],
      "metadata": {
        "id": "uOfhaLaqrfa_",
        "outputId": "6871e0a2-f16b-46fc-c3f4-3fc016632fa3",
        "colab": {
          "base_uri": "https://localhost:8080/"
        }
      },
      "execution_count": 65,
      "outputs": [
        {
          "output_type": "execute_result",
          "data": {
            "text/plain": [
              "array([[0, 1, 2, 3, 4, 1, 1, 1, 1, 1],\n",
              "       [5, 6, 7, 8, 9, 1, 1, 1, 1, 1]])"
            ]
          },
          "metadata": {},
          "execution_count": 65
        }
      ]
    },
    {
      "cell_type": "code",
      "source": [
        "#10 \n",
        "a = np.array([1,2,3])\n",
        "arr10 = np.repeat(a,3)\n",
        "arr10 = np.concatenate((arr10,a,a,a), axis = 0) \n",
        "arr10\n"
      ],
      "metadata": {
        "id": "pU2ely3FrhbK",
        "outputId": "6087db43-dd9d-4f66-b863-d133c9033fdc",
        "colab": {
          "base_uri": "https://localhost:8080/"
        }
      },
      "execution_count": 80,
      "outputs": [
        {
          "output_type": "execute_result",
          "data": {
            "text/plain": [
              "array([1, 1, 1, 2, 2, 2, 3, 3, 3, 1, 2, 3, 1, 2, 3, 1, 2, 3])"
            ]
          },
          "metadata": {},
          "execution_count": 80
        }
      ]
    },
    {
      "cell_type": "code",
      "source": [
        "#10 - alternative\n",
        "a = np.array([1,2,3])\n",
        "np.r_[np.repeat(a, 3), np.tile(a, 3)]"
      ],
      "metadata": {
        "id": "X03AGUV2ry5h",
        "outputId": "ac4d4d6e-ceea-4d1e-ab46-b8ab5e386299",
        "colab": {
          "base_uri": "https://localhost:8080/"
        }
      },
      "execution_count": 150,
      "outputs": [
        {
          "output_type": "execute_result",
          "data": {
            "text/plain": [
              "array([1, 1, 1, 2, 2, 2, 3, 3, 3, 1, 2, 3, 1, 2, 3, 1, 2, 3])"
            ]
          },
          "metadata": {},
          "execution_count": 150
        }
      ]
    },
    {
      "cell_type": "code",
      "source": [
        "#11\n",
        "a = np.array([1,2,3,2,3,4,3,4,5,6])\n",
        "b = np.array([7,2,10,2,7,4,9,4,9,8])\n",
        "np.intersect1d(a,b)"
      ],
      "metadata": {
        "id": "G3K8g-c4ttI1",
        "outputId": "532f4cf5-4806-4896-ca3c-7d89404aff5e",
        "colab": {
          "base_uri": "https://localhost:8080/"
        }
      },
      "execution_count": 151,
      "outputs": [
        {
          "output_type": "execute_result",
          "data": {
            "text/plain": [
              "array([2, 4])"
            ]
          },
          "metadata": {},
          "execution_count": 151
        }
      ]
    },
    {
      "cell_type": "code",
      "source": [
        "#12\n",
        "a = np.array([1,2,3,4,5])\n",
        "b = np.array([5,6,7,8,9])\n",
        "np.setdiff1d(a,b)"
      ],
      "metadata": {
        "id": "T2lt7koex2AK",
        "outputId": "3fdefd23-616e-43a1-f09a-4e28b21c49ab",
        "colab": {
          "base_uri": "https://localhost:8080/"
        }
      },
      "execution_count": 154,
      "outputs": [
        {
          "output_type": "execute_result",
          "data": {
            "text/plain": [
              "array([1, 2, 3, 4])"
            ]
          },
          "metadata": {},
          "execution_count": 154
        }
      ]
    },
    {
      "cell_type": "code",
      "source": [
        "#13\n",
        "a = np.array([1,2,3,2,3,4,3,4,5,6])\n",
        "b = np.array([7,2,10,2,7,4,9,4,9,8])\n",
        "\n",
        "np.where(a == b)"
      ],
      "metadata": {
        "id": "wkn2ht2j2Hpe",
        "outputId": "6c1df0e4-0703-4ef5-c41f-8726252223fb",
        "colab": {
          "base_uri": "https://localhost:8080/"
        }
      },
      "execution_count": 167,
      "outputs": [
        {
          "output_type": "execute_result",
          "data": {
            "text/plain": [
              "(array([1, 3, 5, 7]),)"
            ]
          },
          "metadata": {},
          "execution_count": 167
        }
      ]
    },
    {
      "cell_type": "code",
      "source": [
        "#14\n",
        "a = np.array([2, 6, 1, 9, 10, 3, 27])\n",
        "a[(a >= 5) & (a <= 10)]"
      ],
      "metadata": {
        "id": "UbdpKGDo2t4v",
        "outputId": "141f4f6a-154a-40ae-d60a-8da4810f642f",
        "colab": {
          "base_uri": "https://localhost:8080/"
        }
      },
      "execution_count": 186,
      "outputs": [
        {
          "output_type": "execute_result",
          "data": {
            "text/plain": [
              "array([ 6,  9, 10])"
            ]
          },
          "metadata": {},
          "execution_count": 186
        }
      ]
    },
    {
      "cell_type": "code",
      "source": [
        "#15\n",
        "def pair_max(x, y):\n",
        "    arr = np.array([])\n",
        "    \"\"\"Get the maximum of array items\"\"\"\n",
        "    for i in range(len(x)):\n",
        "      \n",
        "      if x[i] > y[i]:\n",
        "        arr = np.append(arr, x[i])\n",
        "      else:\n",
        "        arr = np.append(arr, y[i])\n",
        "    return arr\n",
        "\n",
        "a = np.array([5, 7, 9, 8, 6, 4, 5])\n",
        "b = np.array([6, 3, 4, 8, 9, 7, 1])\n",
        "pair_max(a,b)"
      ],
      "metadata": {
        "id": "KCr--mJc3uGA",
        "outputId": "d7813be4-d60d-4d80-c82b-9da3a40c385d",
        "colab": {
          "base_uri": "https://localhost:8080/"
        }
      },
      "execution_count": 221,
      "outputs": [
        {
          "output_type": "execute_result",
          "data": {
            "text/plain": [
              "array([6., 7., 9., 8., 9., 7., 5.])"
            ]
          },
          "metadata": {},
          "execution_count": 221
        }
      ]
    },
    {
      "cell_type": "code",
      "source": [
        "#15 - alternative\n",
        "def maxx(x, y):\n",
        "    \"\"\"Get the maximum of two items\"\"\"\n",
        "    if x >= y:\n",
        "        return x\n",
        "    else:\n",
        "        return y\n",
        "\n",
        "pair_max = np.vectorize(maxx, otypes=[int])\n",
        "\n",
        "a = np.array([5, 7, 9, 8, 6, 4, 5])\n",
        "b = np.array([6, 3, 4, 8, 9, 7, 1])\n",
        "\n",
        "pair_max(a, b)"
      ],
      "metadata": {
        "id": "1BnkRur06BCd",
        "outputId": "f2c46289-4a2e-4c1e-b325-53979a3fc65d",
        "colab": {
          "base_uri": "https://localhost:8080/"
        }
      },
      "execution_count": 222,
      "outputs": [
        {
          "output_type": "execute_result",
          "data": {
            "text/plain": [
              "array([6, 7, 9, 8, 9, 7, 5])"
            ]
          },
          "metadata": {},
          "execution_count": 222
        }
      ]
    },
    {
      "cell_type": "code",
      "source": [
        "#16 \n",
        "arr = np.arange(9).reshape(3,3)\n",
        "\n",
        "arr[:, [1, 0]] = arr[:, [0, 1]]\n",
        "arr"
      ],
      "metadata": {
        "id": "QMxJr8JfMG-h",
        "outputId": "a5e2354d-6c0e-4145-f5b0-5752caa0a306",
        "colab": {
          "base_uri": "https://localhost:8080/"
        }
      },
      "execution_count": 229,
      "outputs": [
        {
          "output_type": "execute_result",
          "data": {
            "text/plain": [
              "array([[1, 0, 2],\n",
              "       [4, 3, 5],\n",
              "       [7, 6, 8]])"
            ]
          },
          "metadata": {},
          "execution_count": 229
        }
      ]
    },
    {
      "cell_type": "code",
      "source": [
        "#16 - alternative\n",
        "arr = np.arange(9).reshape(3,3)\n",
        "arr[:,[1,0,2]]\n",
        "'''\n",
        "the first : stands for 1st dimension, second stands for 2nd dimension and so on.\n",
        "'''\n"
      ],
      "metadata": {
        "id": "UZp5IOdXMk-Q",
        "outputId": "efe288fe-2a2a-49bb-b0b3-e921908640c1",
        "colab": {
          "base_uri": "https://localhost:8080/"
        }
      },
      "execution_count": 230,
      "outputs": [
        {
          "output_type": "execute_result",
          "data": {
            "text/plain": [
              "array([[1, 0, 2],\n",
              "       [4, 3, 5],\n",
              "       [7, 6, 8]])"
            ]
          },
          "metadata": {},
          "execution_count": 230
        }
      ]
    },
    {
      "cell_type": "code",
      "source": [
        "#17 \n",
        "arr = np.arange(9).reshape(3,3)\n",
        "arr[[1,0,2],:]"
      ],
      "metadata": {
        "id": "urnBs07QQ5mx",
        "outputId": "3e57568f-c3e1-4997-f48c-b397d7c98d42",
        "colab": {
          "base_uri": "https://localhost:8080/"
        }
      },
      "execution_count": 231,
      "outputs": [
        {
          "output_type": "execute_result",
          "data": {
            "text/plain": [
              "array([[3, 4, 5],\n",
              "       [0, 1, 2],\n",
              "       [6, 7, 8]])"
            ]
          },
          "metadata": {},
          "execution_count": 231
        }
      ]
    },
    {
      "cell_type": "code",
      "source": [
        "#17 - alternative\n",
        "arr = np.arange(9).reshape(3,3)\n",
        "arr[[0,1],:] = arr[[1,0],:]\n",
        "arr"
      ],
      "metadata": {
        "id": "hgWagtP1SliZ",
        "outputId": "e9a7251c-78bf-4abd-ac82-d05362ed7c16",
        "colab": {
          "base_uri": "https://localhost:8080/"
        }
      },
      "execution_count": 234,
      "outputs": [
        {
          "output_type": "execute_result",
          "data": {
            "text/plain": [
              "array([[3, 4, 5],\n",
              "       [0, 1, 2],\n",
              "       [6, 7, 8]])"
            ]
          },
          "metadata": {},
          "execution_count": 234
        }
      ]
    },
    {
      "cell_type": "code",
      "source": [
        "#18 \n",
        "arr = np.arange(9).reshape(3,3)\n",
        "arr[[2,1,0],:]"
      ],
      "metadata": {
        "id": "vTX4fADDS4KF",
        "outputId": "8523da72-b32e-4e00-84b8-4efcb034d5d2",
        "colab": {
          "base_uri": "https://localhost:8080/"
        }
      },
      "execution_count": 236,
      "outputs": [
        {
          "output_type": "execute_result",
          "data": {
            "text/plain": [
              "array([[6, 7, 8],\n",
              "       [3, 4, 5],\n",
              "       [0, 1, 2]])"
            ]
          },
          "metadata": {},
          "execution_count": 236
        }
      ]
    },
    {
      "cell_type": "code",
      "source": [
        "#18 - alternative\n",
        "arr = np.arange(9).reshape(3,3)\n",
        "arr[::-1]"
      ],
      "metadata": {
        "id": "6VJ3NG20THnm",
        "outputId": "25d1b571-7f1e-4a88-c1e2-499bdd1452eb",
        "colab": {
          "base_uri": "https://localhost:8080/"
        }
      },
      "execution_count": 239,
      "outputs": [
        {
          "output_type": "execute_result",
          "data": {
            "text/plain": [
              "array([[6, 7, 8],\n",
              "       [3, 4, 5],\n",
              "       [0, 1, 2]])"
            ]
          },
          "metadata": {},
          "execution_count": 239
        }
      ]
    },
    {
      "cell_type": "code",
      "source": [
        "#19 \n",
        "arr = np.arange(9).reshape(3,3)\n",
        "arr[:,::-1]"
      ],
      "metadata": {
        "id": "-P1YxegaTtsc",
        "outputId": "6c59d1e1-c926-409f-e602-4b3e4a5e11dd",
        "colab": {
          "base_uri": "https://localhost:8080/"
        }
      },
      "execution_count": 240,
      "outputs": [
        {
          "output_type": "execute_result",
          "data": {
            "text/plain": [
              "array([[2, 1, 0],\n",
              "       [5, 4, 3],\n",
              "       [8, 7, 6]])"
            ]
          },
          "metadata": {},
          "execution_count": 240
        }
      ]
    },
    {
      "cell_type": "code",
      "source": [
        "#20\n",
        "rand_arr20 = np.random.randint(low=5, high=11, size=(5,3)) + np.random.random((5,3))\n",
        "rand_arr20"
      ],
      "metadata": {
        "id": "8pCA2CMSWHR-",
        "outputId": "2dceeee4-1b1f-4cf3-e532-0d92cb83edad",
        "colab": {
          "base_uri": "https://localhost:8080/"
        }
      },
      "execution_count": 244,
      "outputs": [
        {
          "output_type": "execute_result",
          "data": {
            "text/plain": [
              "array([[ 7.83888843, 10.29223755,  5.75267793],\n",
              "       [ 7.98194178,  9.36469045,  6.82853099],\n",
              "       [10.23450102,  9.03889969,  7.00168733],\n",
              "       [10.51343323,  5.08704942,  6.81639446],\n",
              "       [ 7.41067178, 10.25178753,  8.75013329]])"
            ]
          },
          "metadata": {},
          "execution_count": 244
        }
      ]
    },
    {
      "cell_type": "code",
      "source": [
        ""
      ],
      "metadata": {
        "id": "Y-3tKORVWj2Z"
      },
      "execution_count": null,
      "outputs": []
    }
  ],
  "metadata": {
    "colab": {
      "collapsed_sections": [],
      "name": "Colaboratory'ye Hoş Geldiniz",
      "toc_visible": true,
      "provenance": [],
      "include_colab_link": true
    },
    "kernelspec": {
      "display_name": "Python 3",
      "name": "python3"
    }
  },
  "nbformat": 4,
  "nbformat_minor": 0
}